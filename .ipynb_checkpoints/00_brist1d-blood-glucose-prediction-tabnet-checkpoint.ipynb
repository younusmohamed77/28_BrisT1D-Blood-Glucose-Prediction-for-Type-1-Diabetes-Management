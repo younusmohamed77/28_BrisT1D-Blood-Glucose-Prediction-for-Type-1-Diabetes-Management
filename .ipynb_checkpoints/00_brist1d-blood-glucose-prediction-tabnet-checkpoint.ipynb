{
 "cells": [
  {
   "cell_type": "markdown",
   "id": "cf206243",
   "metadata": {
    "papermill": {
     "duration": 0.005438,
     "end_time": "2024-11-09T15:40:53.631313",
     "exception": false,
     "start_time": "2024-11-09T15:40:53.625875",
     "status": "completed"
    },
    "tags": []
   },
   "source": [
    "<div style=\"text-align:center; border-radius:15px; padding:15px; margin:0; font-size:100%; font-family:Arial, sans-serif; background-color:#A8DADC; color:#1D3557; overflow:hidden; box-shadow:0 3px 6px rgba(0, 0, 0, 0.2);\">\n",
    "    <h2>BrisT1D Blood Glucose Prediction with TabNet</h2>\n",
    "</div>"
   ]
  },
  {
   "cell_type": "code",
   "execution_count": 1,
   "id": "9f860907",
   "metadata": {
    "execution": {
     "iopub.execute_input": "2024-11-09T15:40:53.643012Z",
     "iopub.status.busy": "2024-11-09T15:40:53.642048Z",
     "iopub.status.idle": "2024-11-09T15:41:11.716042Z",
     "shell.execute_reply": "2024-11-09T15:41:11.715176Z"
    },
    "papermill": {
     "duration": 18.08226,
     "end_time": "2024-11-09T15:41:11.718412",
     "exception": false,
     "start_time": "2024-11-09T15:40:53.636152",
     "status": "completed"
    },
    "tags": []
   },
   "outputs": [],
   "source": [
    "!pip install -qq pytorch_tabnet\n",
    "\n",
    "from pytorch_tabnet.tab_model import TabNetRegressor"
   ]
  },
  {
   "cell_type": "code",
   "execution_count": 2,
   "id": "c4d704b6",
   "metadata": {
    "execution": {
     "iopub.execute_input": "2024-11-09T15:41:11.729902Z",
     "iopub.status.busy": "2024-11-09T15:41:11.729474Z",
     "iopub.status.idle": "2024-11-09T15:41:12.249409Z",
     "shell.execute_reply": "2024-11-09T15:41:12.248545Z"
    },
    "papermill": {
     "duration": 0.528125,
     "end_time": "2024-11-09T15:41:12.251850",
     "exception": false,
     "start_time": "2024-11-09T15:41:11.723725",
     "status": "completed"
    },
    "tags": []
   },
   "outputs": [],
   "source": [
    "from tqdm import tqdm\n",
    "from itertools import product\n",
    "\n",
    "import numpy as np\n",
    "import pandas as pd\n",
    "\n",
    "import matplotlib.pyplot as plt\n",
    "import seaborn as sns\n",
    "\n",
    "from sklearn.model_selection import GroupKFold\n",
    "from sklearn.impute import SimpleImputer\n",
    "\n",
    "import warnings\n",
    "warnings.filterwarnings(\"ignore\")"
   ]
  },
  {
   "cell_type": "markdown",
   "id": "dac095ae",
   "metadata": {
    "papermill": {
     "duration": 0.004699,
     "end_time": "2024-11-09T15:41:12.261678",
     "exception": false,
     "start_time": "2024-11-09T15:41:12.256979",
     "status": "completed"
    },
    "tags": []
   },
   "source": [
    "<div style=\"text-align:center; border-radius:15px; padding:15px; margin:0; font-size:100%; font-family:Arial, sans-serif; background-color:#A8DADC; color:#1D3557; overflow:hidden; box-shadow:0 3px 6px rgba(0, 0, 0, 0.2);\">\n",
    "    <h3>Data Variables</h3>\n",
    "</div>\n"
   ]
  },
  {
   "cell_type": "code",
   "execution_count": 3,
   "id": "a4f2337f",
   "metadata": {
    "execution": {
     "iopub.execute_input": "2024-11-09T15:41:12.272597Z",
     "iopub.status.busy": "2024-11-09T15:41:12.272161Z",
     "iopub.status.idle": "2024-11-09T15:41:12.280675Z",
     "shell.execute_reply": "2024-11-09T15:41:12.279798Z"
    },
    "papermill": {
     "duration": 0.016278,
     "end_time": "2024-11-09T15:41:12.282674",
     "exception": false,
     "start_time": "2024-11-09T15:41:12.266396",
     "status": "completed"
    },
    "tags": []
   },
   "outputs": [],
   "source": [
    "# Define the hour and minute ranges for constructing feature column names\n",
    "hours = range(0, 6, 1)\n",
    "minutes = range(0, 60, 5)\n",
    "\n",
    "target_col = 'bg+1-00' # Target column name for prediction\n",
    "group_col = 'p_num'    # Column name for grouping (e.g., participant number)\n",
    "date_col = 'time'      # Column name for time data\n",
    "\n",
    "# We only need the last 12 time intervals (1 hour)\n",
    "bg_cols   = [f'bg-{i}-{j:02d}' for i, j in product(hours, minutes)][:12]\n",
    "insu_cols = [f'insulin-{i}-{j:02d}' for i, j in product(hours, minutes)][:12]\n",
    "carb_cols = [f'carbs-{i}-{j:02d}' for i, j in product(hours, minutes)][:12]\n",
    "hr_cols   = [f'hr-{i}-{j:02d}' for i, j in product(hours, minutes)][:12]\n",
    "step_cols = [f'steps-{i}-{j:02d}' for i, j in product(hours, minutes)][:12]\n",
    "cals_cols = [f'cals-{i}-{j:02d}' for i, j in product(hours, minutes)][:12]\n",
    "\n",
    "feature_cols = bg_cols + insu_cols + carb_cols + hr_cols + step_cols + cals_cols"
   ]
  },
  {
   "cell_type": "markdown",
   "id": "74634c29",
   "metadata": {
    "execution": {
     "iopub.execute_input": "2024-11-09T15:12:43.478984Z",
     "iopub.status.busy": "2024-11-09T15:12:43.478314Z",
     "iopub.status.idle": "2024-11-09T15:12:43.484947Z",
     "shell.execute_reply": "2024-11-09T15:12:43.483728Z",
     "shell.execute_reply.started": "2024-11-09T15:12:43.478944Z"
    },
    "papermill": {
     "duration": 0.004477,
     "end_time": "2024-11-09T15:41:12.291960",
     "exception": false,
     "start_time": "2024-11-09T15:41:12.287483",
     "status": "completed"
    },
    "tags": []
   },
   "source": [
    "<div style=\"text-align:center; border-radius:15px; padding:15px; margin:0; font-size:100%; font-family:Arial, sans-serif; background-color:#A8DADC; color:#1D3557; overflow:hidden; box-shadow:0 3px 6px rgba(0, 0, 0, 0.2);\">\n",
    "    <h3>Loading and Preprocessing Data for Compatibility</h3>\n",
    "</div>\n"
   ]
  },
  {
   "cell_type": "code",
   "execution_count": 4,
   "id": "dafed3ab",
   "metadata": {
    "execution": {
     "iopub.execute_input": "2024-11-09T15:41:12.303494Z",
     "iopub.status.busy": "2024-11-09T15:41:12.303197Z",
     "iopub.status.idle": "2024-11-09T15:41:25.713462Z",
     "shell.execute_reply": "2024-11-09T15:41:25.712532Z"
    },
    "papermill": {
     "duration": 13.418355,
     "end_time": "2024-11-09T15:41:25.715942",
     "exception": false,
     "start_time": "2024-11-09T15:41:12.297587",
     "status": "completed"
    },
    "tags": []
   },
   "outputs": [],
   "source": [
    "df_train = pd.read_csv(\n",
    "    '/kaggle/input/brist1d/train.csv', \n",
    "    index_col='id', \n",
    "    parse_dates=['time'],\n",
    ")\n",
    "\n",
    "df_test = pd.read_csv(\n",
    "    '/kaggle/input/brist1d/test.csv', \n",
    "    index_col='id', \n",
    "    parse_dates=['time'],\n",
    ")\n",
    "\n",
    "df_subm = pd.read_csv(\n",
    "    \"/kaggle/input/brist1d/sample_submission.csv\",\n",
    "    index_col='id',\n",
    ")\n",
    "\n",
    "# Some frameworks may not handle column names with special characters like colons properly\n",
    "df_train.columns = df_train.columns.str.replace(':', '-')\n",
    "df_test.columns = df_test.columns.str.replace(':', '-')"
   ]
  },
  {
   "cell_type": "markdown",
   "id": "796ea2b9",
   "metadata": {
    "papermill": {
     "duration": 0.004767,
     "end_time": "2024-11-09T15:41:25.726190",
     "exception": false,
     "start_time": "2024-11-09T15:41:25.721423",
     "status": "completed"
    },
    "tags": []
   },
   "source": [
    "<div style=\"text-align:left; border-radius:15px; padding:15px; margin:0; font-size:100%; font-family:Arial, sans-serif; background-color:#A8DADC; color:#1D3557; overflow:hidden; box-shadow:0 3px 6px rgba(0, 0, 0, 0.2);\">\n",
    "    <h3>Interpolation Imputing</h3>\n",
    "    <div style=\"text-align:left; font-size:100%; margin-top:5px;\">Apply linear interpolation to fill missing values within each time series (e.g., blood glucose, insulin, etc.)</div>\n",
    "</div>\n"
   ]
  },
  {
   "cell_type": "code",
   "execution_count": 5,
   "id": "1312ae36",
   "metadata": {
    "execution": {
     "iopub.execute_input": "2024-11-09T15:41:25.737679Z",
     "iopub.status.busy": "2024-11-09T15:41:25.737332Z",
     "iopub.status.idle": "2024-11-09T15:41:47.490759Z",
     "shell.execute_reply": "2024-11-09T15:41:47.489749Z"
    },
    "papermill": {
     "duration": 21.762639,
     "end_time": "2024-11-09T15:41:47.493873",
     "exception": false,
     "start_time": "2024-11-09T15:41:25.731234",
     "status": "completed"
    },
    "tags": []
   },
   "outputs": [],
   "source": [
    "for colset in [bg_cols, insu_cols, carb_cols, hr_cols, step_cols, cals_cols]:\n",
    "    df_train[colset] = df_train[colset].interpolate(axis=1)\n",
    "    df_test[colset] = df_test[colset].interpolate(axis=1)"
   ]
  },
  {
   "cell_type": "markdown",
   "id": "d8ef8437",
   "metadata": {
    "papermill": {
     "duration": 0.006417,
     "end_time": "2024-11-09T15:41:47.507440",
     "exception": false,
     "start_time": "2024-11-09T15:41:47.501023",
     "status": "completed"
    },
    "tags": []
   },
   "source": [
    "<div style=\"text-align:left; border-radius:15px; padding:15px; margin:0; font-size:100%; font-family:Arial, sans-serif; background-color:#A8DADC; color:#1D3557; overflow:hidden; box-shadow:0 3px 6px rgba(0, 0, 0, 0.2);\">\n",
    "    <h3>Mean Imputing</h3>\n",
    "    <div style=\"text-align:left; font-size:100%; margin-top:5px;\">This fits the imputer on the training data and fills missing values with the mean value</div>\n",
    "</div>\n"
   ]
  },
  {
   "cell_type": "code",
   "execution_count": 6,
   "id": "0255216c",
   "metadata": {
    "execution": {
     "iopub.execute_input": "2024-11-09T15:41:47.519619Z",
     "iopub.status.busy": "2024-11-09T15:41:47.518885Z",
     "iopub.status.idle": "2024-11-09T15:41:47.964566Z",
     "shell.execute_reply": "2024-11-09T15:41:47.963629Z"
    },
    "papermill": {
     "duration": 0.45456,
     "end_time": "2024-11-09T15:41:47.967387",
     "exception": false,
     "start_time": "2024-11-09T15:41:47.512827",
     "status": "completed"
    },
    "tags": []
   },
   "outputs": [],
   "source": [
    "imputer = SimpleImputer()\n",
    "\n",
    "df_train[feature_cols] = imputer.fit_transform(df_train[feature_cols])\n",
    "df_test[feature_cols] = imputer.transform(df_test[feature_cols])"
   ]
  },
  {
   "cell_type": "markdown",
   "id": "164948a4",
   "metadata": {
    "papermill": {
     "duration": 0.006652,
     "end_time": "2024-11-09T15:41:47.981292",
     "exception": false,
     "start_time": "2024-11-09T15:41:47.974640",
     "status": "completed"
    },
    "tags": []
   },
   "source": [
    "<div style=\"text-align:left; border-radius:15px; padding:15px; margin:0; font-size:100%; font-family:Arial, sans-serif; background-color:#A8DADC; color:#1D3557; overflow:hidden; box-shadow:0 3px 6px rgba(0, 0, 0, 0.2);\">\n",
    "    <h3>Time Features</h3>\n",
    "    <div style=\"text-align:left; font-size:100%; margin-top:5px;\">Create cyclic time features using sine and cosine transformations for the 'hour' component of the date column\n",
    "This helps encode the hour of the day in a way that captures its cyclical nature (e.g., 23:00 is close to 00:00)</div>\n",
    "</div>"
   ]
  },
  {
   "cell_type": "code",
   "execution_count": 7,
   "id": "74b35879",
   "metadata": {
    "execution": {
     "iopub.execute_input": "2024-11-09T15:41:47.995432Z",
     "iopub.status.busy": "2024-11-09T15:41:47.994589Z",
     "iopub.status.idle": "2024-11-09T15:41:48.039686Z",
     "shell.execute_reply": "2024-11-09T15:41:48.038187Z"
    },
    "papermill": {
     "duration": 0.055959,
     "end_time": "2024-11-09T15:41:48.042414",
     "exception": false,
     "start_time": "2024-11-09T15:41:47.986455",
     "status": "completed"
    },
    "tags": []
   },
   "outputs": [],
   "source": [
    "df_train['sin_hour'] = np.sin(np.pi * df_train[date_col].dt.hour / 12)\n",
    "df_train['cos_hour'] = np.cos(np.pi * df_train[date_col].dt.hour / 12)\n",
    "\n",
    "df_test['sin_hour'] = np.sin(np.pi * df_test[date_col].dt.hour / 12)\n",
    "df_test['cos_hour'] = np.cos(np.pi * df_test[date_col].dt.hour / 12)\n",
    "\n",
    "feature_cols.extend(['sin_hour', 'cos_hour'])"
   ]
  },
  {
   "cell_type": "markdown",
   "id": "5d7622e4",
   "metadata": {
    "papermill": {
     "duration": 0.004869,
     "end_time": "2024-11-09T15:41:48.052560",
     "exception": false,
     "start_time": "2024-11-09T15:41:48.047691",
     "status": "completed"
    },
    "tags": []
   },
   "source": [
    "<div style=\"text-align:left; border-radius:15px; padding:15px; margin:0; font-size:100%; font-family:Arial, sans-serif; background-color:#A8DADC; color:#1D3557; overflow:hidden; box-shadow:0 3px 6px rgba(0, 0, 0, 0.2);\">\n",
    "    <h3>Grouped Features</h3>\n",
    "    <div style=\"text-align:left; font-size:100%; margin-top:5px;\">It is possible to specify attention groups (using grouped_features). Attention is done at the group level and not feature level. This is especially useful if a dataset has a lot of columns coming from on single source of data</div>\n",
    "</div>"
   ]
  },
  {
   "cell_type": "code",
   "execution_count": 8,
   "id": "3ee81a6b",
   "metadata": {
    "execution": {
     "iopub.execute_input": "2024-11-09T15:41:48.063994Z",
     "iopub.status.busy": "2024-11-09T15:41:48.063668Z",
     "iopub.status.idle": "2024-11-09T15:41:48.069126Z",
     "shell.execute_reply": "2024-11-09T15:41:48.068169Z"
    },
    "papermill": {
     "duration": 0.013453,
     "end_time": "2024-11-09T15:41:48.071101",
     "exception": false,
     "start_time": "2024-11-09T15:41:48.057648",
     "status": "completed"
    },
    "tags": []
   },
   "outputs": [],
   "source": [
    "grouped_features = []\n",
    "\n",
    "# Iterate through each set of related columns (e.g., blood glucose, insulin, etc.)\n",
    "for colset in [bg_cols, insu_cols, carb_cols, hr_cols, step_cols, cals_cols]:\n",
    "    group_idxs = [idx for idx, col in enumerate(feature_cols) if col in colset]\n",
    "    grouped_features.append(group_idxs)"
   ]
  },
  {
   "cell_type": "markdown",
   "id": "d230c6fa",
   "metadata": {
    "papermill": {
     "duration": 0.004931,
     "end_time": "2024-11-09T15:41:48.081154",
     "exception": false,
     "start_time": "2024-11-09T15:41:48.076223",
     "status": "completed"
    },
    "tags": []
   },
   "source": [
    "<div style=\"text-align:center; border-radius:15px; padding:15px; margin:0; font-size:100%; font-family:Arial, sans-serif; background-color:#A8DADC; color:#1D3557; overflow:hidden; box-shadow:0 3px 6px rgba(0, 0, 0, 0.2);\">\n",
    "    <h3>Training & Inference</h3>\n",
    "</div>\n"
   ]
  },
  {
   "cell_type": "code",
   "execution_count": 9,
   "id": "982dc3db",
   "metadata": {
    "execution": {
     "iopub.execute_input": "2024-11-09T15:41:48.092631Z",
     "iopub.status.busy": "2024-11-09T15:41:48.092336Z",
     "iopub.status.idle": "2024-11-09T15:59:50.667942Z",
     "shell.execute_reply": "2024-11-09T15:59:50.667121Z"
    },
    "papermill": {
     "duration": 1082.584114,
     "end_time": "2024-11-09T15:59:50.670203",
     "exception": false,
     "start_time": "2024-11-09T15:41:48.086089",
     "status": "completed"
    },
    "tags": []
   },
   "outputs": [
    {
     "name": "stdout",
     "output_type": "stream",
     "text": [
      "epoch 0  | loss: 6.80081 | val_0_rmse: 2.56353 |  0:00:08s\n",
      "epoch 1  | loss: 4.27362 | val_0_rmse: 2.26975 |  0:00:15s\n",
      "epoch 2  | loss: 4.17391 | val_0_rmse: 2.25682 |  0:00:23s\n",
      "epoch 3  | loss: 4.07864 | val_0_rmse: 2.25126 |  0:00:31s\n",
      "epoch 4  | loss: 4.00804 | val_0_rmse: 2.23348 |  0:00:38s\n",
      "epoch 5  | loss: 3.97757 | val_0_rmse: 2.22156 |  0:00:46s\n",
      "epoch 6  | loss: 3.93069 | val_0_rmse: 2.22581 |  0:00:53s\n",
      "epoch 7  | loss: 3.88537 | val_0_rmse: 2.20033 |  0:01:01s\n",
      "epoch 8  | loss: 3.88632 | val_0_rmse: 2.25126 |  0:01:09s\n",
      "epoch 9  | loss: 3.85592 | val_0_rmse: 2.24638 |  0:01:17s\n",
      "epoch 10 | loss: 3.85709 | val_0_rmse: 2.19161 |  0:01:24s\n",
      "epoch 11 | loss: 3.86337 | val_0_rmse: 2.20405 |  0:01:32s\n",
      "epoch 12 | loss: 3.81249 | val_0_rmse: 2.1769  |  0:01:40s\n",
      "epoch 13 | loss: 3.8164  | val_0_rmse: 2.2124  |  0:01:47s\n",
      "epoch 14 | loss: 3.80697 | val_0_rmse: 2.21019 |  0:01:55s\n",
      "epoch 15 | loss: 3.81961 | val_0_rmse: 2.20649 |  0:02:02s\n",
      "epoch 16 | loss: 3.77849 | val_0_rmse: 2.21151 |  0:02:10s\n",
      "epoch 17 | loss: 3.77443 | val_0_rmse: 2.23574 |  0:02:17s\n",
      "epoch 18 | loss: 3.76459 | val_0_rmse: 2.20615 |  0:02:25s\n",
      "epoch 19 | loss: 3.76636 | val_0_rmse: 2.22142 |  0:02:32s\n",
      "epoch 20 | loss: 3.86123 | val_0_rmse: 2.13647 |  0:02:40s\n",
      "epoch 21 | loss: 3.85915 | val_0_rmse: 2.14251 |  0:02:49s\n",
      "epoch 22 | loss: 3.77741 | val_0_rmse: 2.17841 |  0:02:56s\n",
      "epoch 23 | loss: 3.80443 | val_0_rmse: 2.19575 |  0:03:04s\n",
      "epoch 24 | loss: 3.81148 | val_0_rmse: 2.1525  |  0:03:12s\n",
      "epoch 25 | loss: 3.81303 | val_0_rmse: 2.22926 |  0:03:20s\n",
      "epoch 26 | loss: 3.82317 | val_0_rmse: 2.17627 |  0:03:27s\n",
      "epoch 27 | loss: 3.79373 | val_0_rmse: 2.2048  |  0:03:35s\n",
      "epoch 28 | loss: 3.76033 | val_0_rmse: 2.21123 |  0:03:43s\n",
      "epoch 29 | loss: 3.75104 | val_0_rmse: 2.18386 |  0:03:51s\n",
      "epoch 30 | loss: 3.74665 | val_0_rmse: 2.21361 |  0:03:59s\n",
      "\n",
      "Early stopping occurred at epoch 30 with best_epoch = 20 and best_val_0_rmse = 2.13647\n",
      "epoch 0  | loss: 7.08404 | val_0_rmse: 2.58248 |  0:00:08s\n",
      "epoch 1  | loss: 4.25572 | val_0_rmse: 2.20695 |  0:00:15s\n",
      "epoch 2  | loss: 4.14128 | val_0_rmse: 2.20158 |  0:00:23s\n",
      "epoch 3  | loss: 4.05587 | val_0_rmse: 2.19728 |  0:00:30s\n",
      "epoch 4  | loss: 4.02155 | val_0_rmse: 2.16434 |  0:00:38s\n",
      "epoch 5  | loss: 3.96625 | val_0_rmse: 2.19607 |  0:00:46s\n",
      "epoch 6  | loss: 3.94332 | val_0_rmse: 2.25087 |  0:00:53s\n",
      "epoch 7  | loss: 3.9064  | val_0_rmse: 2.23734 |  0:01:01s\n",
      "epoch 8  | loss: 3.91129 | val_0_rmse: 2.17935 |  0:01:09s\n",
      "epoch 9  | loss: 3.92181 | val_0_rmse: 2.19791 |  0:01:16s\n",
      "epoch 10 | loss: 3.92012 | val_0_rmse: 2.17542 |  0:01:23s\n",
      "epoch 11 | loss: 3.92498 | val_0_rmse: 2.18043 |  0:01:31s\n",
      "epoch 12 | loss: 3.87217 | val_0_rmse: 2.13914 |  0:01:38s\n",
      "epoch 13 | loss: 3.83317 | val_0_rmse: 2.12936 |  0:01:46s\n",
      "epoch 14 | loss: 3.81511 | val_0_rmse: 2.1778  |  0:01:53s\n",
      "epoch 15 | loss: 3.8069  | val_0_rmse: 2.16445 |  0:02:01s\n",
      "epoch 16 | loss: 3.82331 | val_0_rmse: 2.17946 |  0:02:08s\n",
      "epoch 17 | loss: 3.82285 | val_0_rmse: 2.15052 |  0:02:16s\n",
      "epoch 18 | loss: 3.77833 | val_0_rmse: 2.15485 |  0:02:23s\n",
      "epoch 19 | loss: 3.78346 | val_0_rmse: 2.16032 |  0:02:31s\n",
      "epoch 20 | loss: 3.76943 | val_0_rmse: 2.13724 |  0:02:38s\n",
      "epoch 21 | loss: 3.7826  | val_0_rmse: 2.13678 |  0:02:46s\n",
      "epoch 22 | loss: 3.77719 | val_0_rmse: 2.17027 |  0:02:53s\n",
      "epoch 23 | loss: 3.7574  | val_0_rmse: 2.16347 |  0:03:00s\n",
      "\n",
      "Early stopping occurred at epoch 23 with best_epoch = 13 and best_val_0_rmse = 2.12936\n",
      "epoch 0  | loss: 7.68918 | val_0_rmse: 2.35555 |  0:00:07s\n",
      "epoch 1  | loss: 4.65708 | val_0_rmse: 1.99261 |  0:00:15s\n",
      "epoch 2  | loss: 4.55166 | val_0_rmse: 2.05795 |  0:00:22s\n",
      "epoch 3  | loss: 4.48192 | val_0_rmse: 1.82569 |  0:00:30s\n",
      "epoch 4  | loss: 4.3874  | val_0_rmse: 1.79591 |  0:00:38s\n",
      "epoch 5  | loss: 4.32551 | val_0_rmse: 1.84952 |  0:00:45s\n",
      "epoch 6  | loss: 4.30071 | val_0_rmse: 1.77056 |  0:00:53s\n",
      "epoch 7  | loss: 4.26529 | val_0_rmse: 1.82181 |  0:01:00s\n",
      "epoch 8  | loss: 4.26698 | val_0_rmse: 1.85331 |  0:01:08s\n",
      "epoch 9  | loss: 4.23144 | val_0_rmse: 1.77139 |  0:01:15s\n",
      "epoch 10 | loss: 4.21447 | val_0_rmse: 1.79764 |  0:01:22s\n",
      "epoch 11 | loss: 4.21139 | val_0_rmse: 1.79927 |  0:01:30s\n",
      "epoch 12 | loss: 4.19337 | val_0_rmse: 1.727   |  0:01:37s\n",
      "epoch 13 | loss: 4.18778 | val_0_rmse: 1.74979 |  0:01:45s\n",
      "epoch 14 | loss: 4.17533 | val_0_rmse: 1.74648 |  0:01:52s\n",
      "epoch 15 | loss: 4.16788 | val_0_rmse: 1.82573 |  0:01:59s\n",
      "epoch 16 | loss: 4.1786  | val_0_rmse: 1.96389 |  0:02:06s\n",
      "epoch 17 | loss: 4.15284 | val_0_rmse: 1.82787 |  0:02:14s\n",
      "epoch 18 | loss: 4.13391 | val_0_rmse: 1.81292 |  0:02:22s\n",
      "epoch 19 | loss: 4.13157 | val_0_rmse: 1.73162 |  0:02:30s\n",
      "epoch 20 | loss: 4.111   | val_0_rmse: 1.89086 |  0:02:37s\n",
      "epoch 21 | loss: 4.10904 | val_0_rmse: 1.8931  |  0:02:46s\n",
      "epoch 22 | loss: 4.09025 | val_0_rmse: 1.83988 |  0:02:54s\n",
      "\n",
      "Early stopping occurred at epoch 22 with best_epoch = 12 and best_val_0_rmse = 1.727\n",
      "epoch 0  | loss: 7.07681 | val_0_rmse: 2.69196 |  0:00:07s\n",
      "epoch 1  | loss: 4.36329 | val_0_rmse: 2.06645 |  0:00:15s\n",
      "epoch 2  | loss: 4.28594 | val_0_rmse: 2.07586 |  0:00:23s\n",
      "epoch 3  | loss: 4.2165  | val_0_rmse: 2.04584 |  0:00:31s\n",
      "epoch 4  | loss: 4.17816 | val_0_rmse: 2.0573  |  0:00:38s\n",
      "epoch 5  | loss: 4.14401 | val_0_rmse: 2.01438 |  0:00:46s\n",
      "epoch 6  | loss: 4.14601 | val_0_rmse: 2.03997 |  0:00:53s\n",
      "epoch 7  | loss: 4.12725 | val_0_rmse: 2.04397 |  0:01:00s\n",
      "epoch 8  | loss: 4.05177 | val_0_rmse: 2.02896 |  0:01:08s\n",
      "epoch 9  | loss: 4.02286 | val_0_rmse: 2.00566 |  0:01:15s\n",
      "epoch 10 | loss: 4.0605  | val_0_rmse: 2.01187 |  0:01:23s\n",
      "epoch 11 | loss: 4.00395 | val_0_rmse: 2.01858 |  0:01:30s\n",
      "epoch 12 | loss: 3.97951 | val_0_rmse: 2.0008  |  0:01:38s\n",
      "epoch 13 | loss: 3.96562 | val_0_rmse: 2.0176  |  0:01:45s\n",
      "epoch 14 | loss: 3.9473  | val_0_rmse: 2.03772 |  0:01:53s\n",
      "epoch 15 | loss: 3.93696 | val_0_rmse: 2.02245 |  0:02:00s\n",
      "epoch 16 | loss: 3.9466  | val_0_rmse: 1.99814 |  0:02:07s\n",
      "epoch 17 | loss: 3.93308 | val_0_rmse: 2.00883 |  0:02:16s\n",
      "epoch 18 | loss: 3.90931 | val_0_rmse: 2.05166 |  0:02:23s\n",
      "epoch 19 | loss: 3.90178 | val_0_rmse: 2.01207 |  0:02:31s\n",
      "epoch 20 | loss: 3.91345 | val_0_rmse: 2.00365 |  0:02:39s\n",
      "epoch 21 | loss: 3.8817  | val_0_rmse: 2.01524 |  0:02:46s\n",
      "epoch 22 | loss: 3.91302 | val_0_rmse: 2.17303 |  0:02:54s\n",
      "epoch 23 | loss: 3.87347 | val_0_rmse: 2.02786 |  0:03:02s\n",
      "epoch 24 | loss: 3.86327 | val_0_rmse: 2.01063 |  0:03:09s\n",
      "epoch 25 | loss: 3.85799 | val_0_rmse: 1.99849 |  0:03:16s\n",
      "epoch 26 | loss: 3.85646 | val_0_rmse: 2.03414 |  0:03:24s\n",
      "\n",
      "Early stopping occurred at epoch 26 with best_epoch = 16 and best_val_0_rmse = 1.99814\n",
      "epoch 0  | loss: 7.20861 | val_0_rmse: 3.16679 |  0:00:07s\n",
      "epoch 1  | loss: 4.33284 | val_0_rmse: 2.4505  |  0:00:15s\n",
      "epoch 2  | loss: 4.14129 | val_0_rmse: 2.18212 |  0:00:22s\n",
      "epoch 3  | loss: 4.06419 | val_0_rmse: 2.22704 |  0:00:29s\n",
      "epoch 4  | loss: 3.99556 | val_0_rmse: 2.11352 |  0:00:36s\n",
      "epoch 5  | loss: 3.97579 | val_0_rmse: 2.07825 |  0:00:43s\n",
      "epoch 6  | loss: 3.95776 | val_0_rmse: 2.10522 |  0:00:50s\n",
      "epoch 7  | loss: 3.91373 | val_0_rmse: 2.07356 |  0:00:58s\n",
      "epoch 8  | loss: 3.92623 | val_0_rmse: 2.09361 |  0:01:05s\n",
      "epoch 9  | loss: 3.92433 | val_0_rmse: 2.12278 |  0:01:12s\n",
      "epoch 10 | loss: 3.87194 | val_0_rmse: 2.06913 |  0:01:19s\n",
      "epoch 11 | loss: 3.87523 | val_0_rmse: 2.1337  |  0:01:26s\n",
      "epoch 12 | loss: 3.85511 | val_0_rmse: 2.093   |  0:01:33s\n",
      "epoch 13 | loss: 3.85677 | val_0_rmse: 2.09466 |  0:01:40s\n",
      "epoch 14 | loss: 3.82988 | val_0_rmse: 2.10994 |  0:01:47s\n",
      "epoch 15 | loss: 3.84006 | val_0_rmse: 2.07227 |  0:01:55s\n",
      "epoch 16 | loss: 3.82904 | val_0_rmse: 2.08469 |  0:02:02s\n",
      "epoch 17 | loss: 3.81523 | val_0_rmse: 2.06473 |  0:02:09s\n",
      "epoch 18 | loss: 3.81035 | val_0_rmse: 2.06601 |  0:02:16s\n",
      "epoch 19 | loss: 3.81547 | val_0_rmse: 2.12851 |  0:02:23s\n",
      "epoch 20 | loss: 3.80608 | val_0_rmse: 2.08439 |  0:02:30s\n",
      "epoch 21 | loss: 3.79779 | val_0_rmse: 2.06892 |  0:02:37s\n",
      "epoch 22 | loss: 3.75178 | val_0_rmse: 2.0624  |  0:02:44s\n",
      "epoch 23 | loss: 3.76358 | val_0_rmse: 2.14273 |  0:02:51s\n",
      "epoch 24 | loss: 3.81642 | val_0_rmse: 2.0672  |  0:02:58s\n",
      "epoch 25 | loss: 3.74621 | val_0_rmse: 2.0777  |  0:03:06s\n",
      "epoch 26 | loss: 3.76029 | val_0_rmse: 2.07865 |  0:03:13s\n",
      "epoch 27 | loss: 3.74907 | val_0_rmse: 2.09158 |  0:03:20s\n",
      "epoch 28 | loss: 3.75729 | val_0_rmse: 2.06639 |  0:03:28s\n",
      "epoch 29 | loss: 3.7267  | val_0_rmse: 2.08471 |  0:03:35s\n",
      "epoch 30 | loss: 3.73797 | val_0_rmse: 2.10993 |  0:03:42s\n",
      "epoch 31 | loss: 3.71548 | val_0_rmse: 2.06297 |  0:03:49s\n",
      "epoch 32 | loss: 3.71236 | val_0_rmse: 2.12339 |  0:03:56s\n",
      "\n",
      "Early stopping occurred at epoch 32 with best_epoch = 22 and best_val_0_rmse = 2.0624\n"
     ]
    }
   ],
   "source": [
    "X = df_train[feature_cols]\n",
    "y = df_train[[target_col]]\n",
    "groups = df_train[group_col]\n",
    "cv = GroupKFold(5)\n",
    "df_subm['bg+1:00'] = 0.0\n",
    "\n",
    "for idx_train, idx_valid in cv.split(X, y, groups=groups):\n",
    "    \n",
    "    # Split the data into training and validation sets for the current fold\n",
    "    X_train, y_train = X.iloc[idx_train].to_numpy(), y.iloc[idx_train].to_numpy()\n",
    "    X_valid, y_valid = X.iloc[idx_valid].to_numpy(), y.iloc[idx_valid].to_numpy()\n",
    "    \n",
    "    # Initialize the TabNet Regressor model\n",
    "    reg = TabNetRegressor(\n",
    "        grouped_features=grouped_features, \n",
    "    )\n",
    "    \n",
    "    # Train the model using the training set and validate using the validation set\n",
    "    reg.fit(\n",
    "        X_train, y_train,\n",
    "        eval_set=[(X_valid, y_valid)],\n",
    "        eval_metric=['rmse'],\n",
    "        batch_size=1024,\n",
    "    )\n",
    "    \n",
    "    # Prepare the test data and make predictions\n",
    "    X_test = df_test[feature_cols].to_numpy()\n",
    "    \n",
    "    # Aggregate the predictions across the 5 folds (averaging for ensemble)\n",
    "    df_subm['bg+1:00'] += reg.predict(X_test)[:, 0] / 5\n",
    "    \n",
    "df_subm.to_csv('submission.csv')"
   ]
  },
  {
   "cell_type": "markdown",
   "id": "35e80d16",
   "metadata": {
    "papermill": {
     "duration": 0.014926,
     "end_time": "2024-11-09T15:59:50.700605",
     "exception": false,
     "start_time": "2024-11-09T15:59:50.685679",
     "status": "completed"
    },
    "tags": []
   },
   "source": [
    "<div style=\"text-align:center; border-radius:15px; padding:15px; margin:0; font-size:100%; font-family:Arial, sans-serif; background-color:#A8DADC; color:#1D3557; overflow:hidden; box-shadow:0 3px 6px rgba(0, 0, 0, 0.2);\">\n",
    "    <h3>Feature Importance</h3>\n",
    "</div>"
   ]
  },
  {
   "cell_type": "code",
   "execution_count": 10,
   "id": "9873b680",
   "metadata": {
    "execution": {
     "iopub.execute_input": "2024-11-09T15:59:50.732137Z",
     "iopub.status.busy": "2024-11-09T15:59:50.731790Z",
     "iopub.status.idle": "2024-11-09T15:59:51.167828Z",
     "shell.execute_reply": "2024-11-09T15:59:51.166909Z"
    },
    "papermill": {
     "duration": 0.454325,
     "end_time": "2024-11-09T15:59:51.169990",
     "exception": false,
     "start_time": "2024-11-09T15:59:50.715665",
     "status": "completed"
    },
    "tags": []
   },
   "outputs": [
    {
     "data": {
      "image/png": "[encoded data removed]",
      "text/plain": [
       "<Figure size 1200x800 with 1 Axes>"
      ]
     },
     "metadata": {},
     "output_type": "display_data"
    }
   ],
   "source": [
    "feature_importances = pd.DataFrame({\n",
    "    'feature': feature_cols,\n",
    "    'importance': reg.feature_importances_\n",
    "})\n",
    "\n",
    "feature_importances.sort_values(\n",
    "    by=\"importance\", ascending=False, inplace=True,\n",
    ")\n",
    "\n",
    "plt.figure(figsize = (12, 8))\n",
    "sns.barplot(\n",
    "    y=feature_importances[\"feature\"][:20], \n",
    "    x=feature_importances[\"importance\"][:20],\n",
    ")\n",
    "plt.title(\"Feature Importance\")\n",
    "plt.show()"
   ]
  },
  {
   "cell_type": "code",
   "execution_count": null,
   "id": "5dc38b1c",
   "metadata": {
    "papermill": {
     "duration": 0.01558,
     "end_time": "2024-11-09T15:59:51.201888",
     "exception": false,
     "start_time": "2024-11-09T15:59:51.186308",
     "status": "completed"
    },
    "tags": []
   },
   "outputs": [],
   "source": []
  }
 ],
 "metadata": {
  "kaggle": {
   "accelerator": "gpu",
   "dataSources": [
    {
     "databundleVersionId": 9553358,
     "sourceId": 82611,
     "sourceType": "competition"
    },
    {
     "datasetId": 5844541,
     "sourceId": 9838119,
     "sourceType": "datasetVersion"
    }
   ],
   "dockerImageVersionId": 30776,
   "isGpuEnabled": true,
   "isInternetEnabled": true,
   "language": "python",
   "sourceType": "notebook"
  },
  "kernelspec": {
   "display_name": "Python 3",
   "language": "python",
   "name": "python3"
  },
  "language_info": {
   "codemirror_mode": {
    "name": "ipython",
    "version": 3
   },
   "file_extension": ".py",
   "mimetype": "text/x-python",
   "name": "python",
   "nbconvert_exporter": "python",
   "pygments_lexer": "ipython3",
   "version": "3.10.14"
  },
  "papermill": {
   "default_parameters": {},
   "duration": 1141.861485,
   "end_time": "2024-11-09T15:59:52.739629",
   "environment_variables": {},
   "exception": null,
   "input_path": "__notebook__.ipynb",
   "output_path": "__notebook__.ipynb",
   "parameters": {},
   "start_time": "2024-11-09T15:40:50.878144",
   "version": "2.6.0"
  }
 },
 "nbformat": 4,
 "nbformat_minor": 5
}
